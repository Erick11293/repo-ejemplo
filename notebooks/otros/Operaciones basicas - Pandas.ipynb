{
 "cells": [
  {
   "cell_type": "code",
   "execution_count": 1,
   "metadata": {
    "tags": []
   },
   "outputs": [],
   "source": [
    "import pandas as pd"
   ]
  },
  {
   "cell_type": "code",
   "execution_count": 18,
   "metadata": {
    "tags": []
   },
   "outputs": [],
   "source": [
    "import numpy as np"
   ]
  },
  {
   "cell_type": "code",
   "execution_count": 2,
   "metadata": {
    "tags": []
   },
   "outputs": [],
   "source": [
    "Base500Canciones = pd.read_csv('../data/raw/Top 500 Songs.csv', encoding = 'latin1')"
   ]
  },
  {
   "cell_type": "markdown",
   "metadata": {},
   "source": [
    "###### Estadísticas básicas"
   ]
  },
  {
   "cell_type": "code",
   "execution_count": 4,
   "metadata": {
    "scrolled": true,
    "tags": []
   },
   "outputs": [
    {
     "name": "stdout",
     "output_type": "stream",
     "text": [
      "<class 'pandas.core.frame.DataFrame'>\n",
      "RangeIndex: 500 entries, 0 to 499\n",
      "Data columns (total 9 columns):\n",
      " #   Column       Non-Null Count  Dtype \n",
      "---  ------       --------------  ----- \n",
      " 0   title        500 non-null    object\n",
      " 1   description  500 non-null    object\n",
      " 2   appears on   500 non-null    object\n",
      " 3   artist       500 non-null    object\n",
      " 4   writers      500 non-null    object\n",
      " 5   producer     500 non-null    object\n",
      " 6   released     500 non-null    object\n",
      " 7   streak       494 non-null    object\n",
      " 8   position     393 non-null    object\n",
      "dtypes: object(9)\n",
      "memory usage: 35.3+ KB\n"
     ]
    }
   ],
   "source": [
    "Base500Canciones.info()"
   ]
  },
  {
   "cell_type": "code",
   "execution_count": 5,
   "metadata": {
    "tags": []
   },
   "outputs": [
    {
     "data": {
      "text/html": [
       "<div>\n",
       "<style scoped>\n",
       "    .dataframe tbody tr th:only-of-type {\n",
       "        vertical-align: middle;\n",
       "    }\n",
       "\n",
       "    .dataframe tbody tr th {\n",
       "        vertical-align: top;\n",
       "    }\n",
       "\n",
       "    .dataframe thead th {\n",
       "        text-align: right;\n",
       "    }\n",
       "</style>\n",
       "<table border=\"1\" class=\"dataframe\">\n",
       "  <thead>\n",
       "    <tr style=\"text-align: right;\">\n",
       "      <th></th>\n",
       "      <th>title</th>\n",
       "      <th>description</th>\n",
       "      <th>appears on</th>\n",
       "      <th>artist</th>\n",
       "      <th>writers</th>\n",
       "      <th>producer</th>\n",
       "      <th>released</th>\n",
       "      <th>streak</th>\n",
       "      <th>position</th>\n",
       "    </tr>\n",
       "  </thead>\n",
       "  <tbody>\n",
       "    <tr>\n",
       "      <th>count</th>\n",
       "      <td>500</td>\n",
       "      <td>500</td>\n",
       "      <td>500</td>\n",
       "      <td>500</td>\n",
       "      <td>500</td>\n",
       "      <td>500</td>\n",
       "      <td>500</td>\n",
       "      <td>494</td>\n",
       "      <td>393</td>\n",
       "    </tr>\n",
       "    <tr>\n",
       "      <th>unique</th>\n",
       "      <td>446</td>\n",
       "      <td>450</td>\n",
       "      <td>392</td>\n",
       "      <td>248</td>\n",
       "      <td>335</td>\n",
       "      <td>296</td>\n",
       "      <td>331</td>\n",
       "      <td>54</td>\n",
       "      <td>100</td>\n",
       "    </tr>\n",
       "    <tr>\n",
       "      <th>top</th>\n",
       "      <td>Crazy</td>\n",
       "      <td>The members of Led Zeppelin first got their so...</td>\n",
       "      <td>The Ultimate Collection (Motown)</td>\n",
       "      <td>The Beatles</td>\n",
       "      <td>John Lennon, Paul McCartney</td>\n",
       "      <td>George Martin</td>\n",
       "      <td>Oct. , 1969</td>\n",
       "      <td>15 weeks</td>\n",
       "      <td>No. 1</td>\n",
       "    </tr>\n",
       "    <tr>\n",
       "      <th>freq</th>\n",
       "      <td>4</td>\n",
       "      <td>2</td>\n",
       "      <td>10</td>\n",
       "      <td>23</td>\n",
       "      <td>20</td>\n",
       "      <td>21</td>\n",
       "      <td>7</td>\n",
       "      <td>35</td>\n",
       "      <td>76</td>\n",
       "    </tr>\n",
       "  </tbody>\n",
       "</table>\n",
       "</div>"
      ],
      "text/plain": [
       "        title                                        description  \\\n",
       "count     500                                                500   \n",
       "unique    446                                                450   \n",
       "top     Crazy  The members of Led Zeppelin first got their so...   \n",
       "freq        4                                                  2   \n",
       "\n",
       "                              appears on       artist  \\\n",
       "count                                500          500   \n",
       "unique                               392          248   \n",
       "top     The Ultimate Collection (Motown)  The Beatles   \n",
       "freq                                  10           23   \n",
       "\n",
       "                            writers       producer     released    streak  \\\n",
       "count                           500            500          500       494   \n",
       "unique                          335            296          331        54   \n",
       "top     John Lennon, Paul McCartney  George Martin  Oct. , 1969  15 weeks   \n",
       "freq                             20             21            7        35   \n",
       "\n",
       "       position  \n",
       "count       393  \n",
       "unique      100  \n",
       "top       No. 1  \n",
       "freq         76  "
      ]
     },
     "execution_count": 5,
     "metadata": {},
     "output_type": "execute_result"
    }
   ],
   "source": [
    "Base500Canciones.describe()"
   ]
  },
  {
   "cell_type": "code",
   "execution_count": 6,
   "metadata": {
    "tags": []
   },
   "outputs": [
    {
     "data": {
      "text/plain": [
       "Index(['title', 'description', 'appears on', 'artist', 'writers', 'producer',\n",
       "       'released', 'streak', 'position'],\n",
       "      dtype='object')"
      ]
     },
     "execution_count": 6,
     "metadata": {},
     "output_type": "execute_result"
    }
   ],
   "source": [
    "Base500Canciones.columns"
   ]
  },
  {
   "cell_type": "markdown",
   "metadata": {},
   "source": [
    "###### Manejo de fechas"
   ]
  },
  {
   "cell_type": "code",
   "execution_count": 7,
   "metadata": {
    "tags": []
   },
   "outputs": [
    {
     "data": {
      "text/plain": [
       "0         July, 1965\n",
       "1          May, 1965\n",
       "2      October, 1971\n",
       "3          Feb, 1971\n",
       "4        April, 1967\n",
       "           ...      \n",
       "495     March , 1967\n",
       "496      Oct. , 1964\n",
       "497      Feb. , 1973\n",
       "498     Sept. , 1991\n",
       "499      July , 1965\n",
       "Name: released, Length: 500, dtype: object"
      ]
     },
     "execution_count": 7,
     "metadata": {},
     "output_type": "execute_result"
    }
   ],
   "source": [
    "Base500Canciones['released']"
   ]
  },
  {
   "cell_type": "code",
   "execution_count": 8,
   "metadata": {
    "tags": []
   },
   "outputs": [],
   "source": [
    "Base500Canciones['Fecha de Estreno'] = pd.to_datetime(Base500Canciones['released'])"
   ]
  },
  {
   "cell_type": "code",
   "execution_count": 9,
   "metadata": {
    "tags": []
   },
   "outputs": [
    {
     "data": {
      "text/plain": [
       "0     1965-07-01\n",
       "1     1965-05-01\n",
       "2     1971-10-01\n",
       "3     1971-02-01\n",
       "4     1967-04-01\n",
       "         ...    \n",
       "495   1967-03-01\n",
       "496   1964-10-01\n",
       "497   1973-02-01\n",
       "498   1991-09-01\n",
       "499   1965-07-01\n",
       "Name: Fecha de Estreno, Length: 500, dtype: datetime64[ns]"
      ]
     },
     "execution_count": 9,
     "metadata": {},
     "output_type": "execute_result"
    }
   ],
   "source": [
    "Base500Canciones['Fecha de Estreno']"
   ]
  },
  {
   "cell_type": "markdown",
   "metadata": {},
   "source": [
    "###### ¿Cuantas canciones por año se estrenaron?"
   ]
  },
  {
   "cell_type": "code",
   "execution_count": 10,
   "metadata": {
    "tags": []
   },
   "outputs": [],
   "source": [
    "Cancionesxfecha=(Base500Canciones\n",
    " .assign(N=1)\n",
    " .groupby(pd.Grouper(key = 'Fecha de Estreno', freq = 'Y')).agg({'N':'count'}) \n",
    ")\n"
   ]
  },
  {
   "cell_type": "code",
   "execution_count": 11,
   "metadata": {
    "tags": []
   },
   "outputs": [
    {
     "data": {
      "text/plain": [
       "<Axes: xlabel='Fecha de Estreno'>"
      ]
     },
     "execution_count": 11,
     "metadata": {},
     "output_type": "execute_result"
    },
    {
     "data": {
      "image/png": "[encoded data removed]",
      "text/plain": [
       "<Figure size 640x480 with 1 Axes>"
      ]
     },
     "metadata": {},
     "output_type": "display_data"
    }
   ],
   "source": [
    "Cancionesxfecha.plot()"
   ]
  },
  {
   "cell_type": "markdown",
   "metadata": {},
   "source": [
    "###### ¿Qué artistas?"
   ]
  },
  {
   "cell_type": "markdown",
   "metadata": {},
   "source": [
    "!pip install qgrid\n",
    "jupyter nbextension enable --py --sys-prefix qgrid"
   ]
  },
  {
   "cell_type": "code",
   "execution_count": 12,
   "metadata": {
    "scrolled": true,
    "tags": []
   },
   "outputs": [
    {
     "data": {
      "text/plain": [
       "The Beatles                   23\n",
       "Bob Dylan                     14\n",
       "Elvis Presley                 13\n",
       "The Rolling Stones            10\n",
       "The Beach Boys                 8\n",
       "                              ..\n",
       "The Modern Lovers              1\n",
       "Kanye West                     1\n",
       "New York Dolls                 1\n",
       "Archie Bell and The Drells     1\n",
       "Sonny and Cher                 1\n",
       "Name: artist, Length: 248, dtype: int64"
      ]
     },
     "execution_count": 12,
     "metadata": {},
     "output_type": "execute_result"
    }
   ],
   "source": [
    "Base500Canciones.artist.value_counts()"
   ]
  },
  {
   "cell_type": "markdown",
   "metadata": {},
   "source": [
    "###### ¿Y el productor?"
   ]
  },
  {
   "cell_type": "code",
   "execution_count": 13,
   "metadata": {
    "tags": []
   },
   "outputs": [
    {
     "data": {
      "text/plain": [
       "George Martin                                   21\n",
       "Steve Sholes                                     8\n",
       "Wilson                                           8\n",
       "Jimmy Miller                                     7\n",
       "Bob Johnston                                     7\n",
       "                                                ..\n",
       "Jerry Leiber, Mike Stoller, Barry, Greenwich     1\n",
       "Smith, David M. Allen                            1\n",
       "Ken Scott, Bowie                                 1\n",
       "Bell                                             1\n",
       "Bono                                             1\n",
       "Name: producer, Length: 296, dtype: int64"
      ]
     },
     "execution_count": 13,
     "metadata": {},
     "output_type": "execute_result"
    }
   ],
   "source": [
    "Base500Canciones.producer.value_counts()"
   ]
  },
  {
   "cell_type": "markdown",
   "metadata": {},
   "source": [
    "###### ¿A que posicion llegaron?"
   ]
  },
  {
   "cell_type": "code",
   "execution_count": 14,
   "metadata": {
    "tags": []
   },
   "outputs": [
    {
     "data": {
      "text/plain": [
       "0        No. 2\n",
       "1        No. 1\n",
       "2        No. 3\n",
       "3        No. 2\n",
       "4        No. 1\n",
       "        ...   \n",
       "495        NaN\n",
       "496      No. 1\n",
       "497        NaN\n",
       "498     No. 32\n",
       "499      No. 1\n",
       "Name: position, Length: 500, dtype: object"
      ]
     },
     "execution_count": 14,
     "metadata": {},
     "output_type": "execute_result"
    }
   ],
   "source": [
    "Base500Canciones.position"
   ]
  },
  {
   "cell_type": "code",
   "execution_count": 15,
   "metadata": {
    "tags": []
   },
   "outputs": [],
   "source": [
    "import re"
   ]
  },
  {
   "cell_type": "code",
   "execution_count": 19,
   "metadata": {
    "scrolled": true,
    "tags": []
   },
   "outputs": [],
   "source": [
    "Base500Canciones['Puesto'] = (\n",
    "    Base500Canciones\n",
    "    .position\n",
    "    .apply(lambda y: re.findall(\"\\d+\",str(y)))\n",
    "    .apply(lambda y: y[0] if len(y)>0 else np.nan)\n",
    ")"
   ]
  },
  {
   "cell_type": "code",
   "execution_count": 20,
   "metadata": {
    "tags": []
   },
   "outputs": [
    {
     "data": {
      "text/plain": [
       "count     386\n",
       "unique     64\n",
       "top         1\n",
       "freq      119\n",
       "Name: Puesto, dtype: object"
      ]
     },
     "execution_count": 20,
     "metadata": {},
     "output_type": "execute_result"
    }
   ],
   "source": [
    "Base500Canciones['Puesto'].describe()"
   ]
  },
  {
   "cell_type": "code",
   "execution_count": 21,
   "metadata": {
    "tags": []
   },
   "outputs": [
    {
     "data": {
      "text/plain": [
       "0        2\n",
       "1        1\n",
       "2        3\n",
       "3        2\n",
       "4        1\n",
       "      ... \n",
       "495    NaN\n",
       "496      1\n",
       "497    NaN\n",
       "498     32\n",
       "499      1\n",
       "Name: Puesto, Length: 500, dtype: object"
      ]
     },
     "execution_count": 21,
     "metadata": {},
     "output_type": "execute_result"
    }
   ],
   "source": [
    "Base500Canciones['Puesto']"
   ]
  },
  {
   "cell_type": "code",
   "execution_count": 22,
   "metadata": {
    "tags": []
   },
   "outputs": [],
   "source": [
    "Base500Canciones['Puesto'] = Base500Canciones['Puesto'].astype(float)"
   ]
  },
  {
   "cell_type": "code",
   "execution_count": 23,
   "metadata": {
    "scrolled": true,
    "tags": []
   },
   "outputs": [
    {
     "data": {
      "text/plain": [
       "count    386.000000\n",
       "mean      13.453368\n",
       "std       19.630989\n",
       "min        1.000000\n",
       "25%        1.000000\n",
       "50%        5.000000\n",
       "75%       16.000000\n",
       "max       99.000000\n",
       "Name: Puesto, dtype: float64"
      ]
     },
     "execution_count": 23,
     "metadata": {},
     "output_type": "execute_result"
    }
   ],
   "source": [
    "Base500Canciones['Puesto'].describe()"
   ]
  },
  {
   "cell_type": "markdown",
   "metadata": {},
   "source": [
    "###### Pre visualizaciones\n",
    "Las herramientas de python permiten tener ideas de como representar la informacion \\\n",
    "Raw data -> Insights"
   ]
  },
  {
   "cell_type": "code",
   "execution_count": 24,
   "metadata": {
    "tags": []
   },
   "outputs": [],
   "source": [
    "import seaborn as sns"
   ]
  },
  {
   "cell_type": "code",
   "execution_count": 25,
   "metadata": {
    "tags": []
   },
   "outputs": [
    {
     "data": {
      "text/plain": [
       "<Axes: xlabel='Puesto', ylabel='Count'>"
      ]
     },
     "execution_count": 25,
     "metadata": {},
     "output_type": "execute_result"
    },
    {
     "data": {
      "image/png": "[encoded data removed]",
      "text/plain": [
       "<Figure size 640x480 with 1 Axes>"
      ]
     },
     "metadata": {},
     "output_type": "display_data"
    }
   ],
   "source": [
    "sns.histplot(Base500Canciones['Puesto'])"
   ]
  },
  {
   "cell_type": "markdown",
   "metadata": {},
   "source": [
    "Las canciones de este top casi siempre llegaban al 1 en las listas de oyentes"
   ]
  },
  {
   "cell_type": "markdown",
   "metadata": {},
   "source": [
    "###### ¿Cuanto duran las canciones en los tops?"
   ]
  },
  {
   "cell_type": "code",
   "execution_count": 26,
   "metadata": {
    "tags": []
   },
   "outputs": [
    {
     "data": {
      "text/plain": [
       "15 weeks                  35\n",
       "Did not chart             35\n",
       "16 weeks                  34\n",
       "11 weeks                  33\n",
       "14 weeks                  32\n",
       "13 weeks                  32\n",
       "12 weeks                  29\n",
       "Non-single                21\n",
       "21 weeks                  18\n",
       "17 weeks                  17\n",
       "19 weeks                  15\n",
       "20 weeks                  15\n",
       "8 weeks                   14\n",
       "Did Not Chart             13\n",
       "10 weeks                  12\n",
       "27 weeks                  11\n",
       "18 weeks                  10\n",
       "9 weeks                   10\n",
       "24 weeks                   9\n",
       "7 weeks                    9\n",
       "Non-Single                 9\n",
       "22 weeks                   8\n",
       "Did not chart              8\n",
       "none                       7\n",
       "25 weeks                   7\n",
       "26 weeks                   6\n",
       "5 weeks                    4\n",
       "4 weeks                    4\n",
       "6 weeks                    2\n",
       "33 weeks                   2\n",
       "23 weeks                   2\n",
       "30 weeks                   2\n",
       "2 weeks                    2\n",
       "15 weeks, No. 7            2\n",
       "29 weeks                   2\n",
       "27 weeks, No. 1            2\n",
       "7 weeks, No. 31            2\n",
       "13 weeks, No. 6            2\n",
       "28 weeks                   2\n",
       "Predates chart             1\n",
       "did not chart              1\n",
       "predates chart             1\n",
       "46 weeks                   1\n",
       "42 weeks                   1\n",
       "3 weeks                    1\n",
       "31 weeks                   1\n",
       "Non-single                 1\n",
       "1 week                     1\n",
       " 21 weeks                  1\n",
       "Non-single in the U.S.     1\n",
       "Non-single in U.S.         1\n",
       "32 weeks                   1\n",
       "Predates pop charts        1\n",
       "39 weeks                   1\n",
       "Name: streak, dtype: int64"
      ]
     },
     "execution_count": 26,
     "metadata": {},
     "output_type": "execute_result"
    }
   ],
   "source": [
    "Base500Canciones.streak.value_counts()"
   ]
  },
  {
   "cell_type": "code",
   "execution_count": 27,
   "metadata": {
    "tags": []
   },
   "outputs": [],
   "source": [
    "Base500Canciones['semanas'] = (Base500Canciones.streak\n",
    "                               .fillna(\"\")\n",
    "                               .str.split(\",\")\n",
    "                               .apply(lambda y: y[-1])\n",
    "                               .apply(lambda y: re.findall(\"\\d+\",str(y)))\n",
    "                               .apply(lambda y: int(y[0]) if len(y)>0 else np.nan)\n",
    "                             )"
   ]
  },
  {
   "cell_type": "code",
   "execution_count": 28,
   "metadata": {
    "tags": []
   },
   "outputs": [
    {
     "data": {
      "text/plain": [
       "count    394.000000\n",
       "mean      15.543147\n",
       "std        6.392936\n",
       "min        1.000000\n",
       "25%       12.000000\n",
       "50%       15.000000\n",
       "75%       19.000000\n",
       "max       46.000000\n",
       "Name: semanas, dtype: float64"
      ]
     },
     "execution_count": 28,
     "metadata": {},
     "output_type": "execute_result"
    }
   ],
   "source": [
    "Base500Canciones['semanas'].dropna().describe()"
   ]
  },
  {
   "cell_type": "code",
   "execution_count": 29,
   "metadata": {
    "tags": []
   },
   "outputs": [
    {
     "data": {
      "text/plain": [
       "<Axes: xlabel='semanas', ylabel='Count'>"
      ]
     },
     "execution_count": 29,
     "metadata": {},
     "output_type": "execute_result"
    },
    {
     "data": {
      "image/png": "[encoded data removed]",
      "text/plain": [
       "<Figure size 640x480 with 1 Axes>"
      ]
     },
     "metadata": {},
     "output_type": "display_data"
    }
   ],
   "source": [
    "sns.histplot(Base500Canciones['semanas'].dropna())"
   ]
  },
  {
   "cell_type": "markdown",
   "metadata": {},
   "source": [
    "En promedio las canciones duran 15 semanas el listas"
   ]
  },
  {
   "cell_type": "code",
   "execution_count": 30,
   "metadata": {
    "tags": []
   },
   "outputs": [
    {
     "data": {
      "text/plain": [
       "<Axes: xlabel='Fecha de Estreno'>"
      ]
     },
     "execution_count": 30,
     "metadata": {},
     "output_type": "execute_result"
    },
    {
     "data": {
      "image/png": "[encoded data removed]",
      "text/plain": [
       "<Figure size 640x480 with 1 Axes>"
      ]
     },
     "metadata": {},
     "output_type": "display_data"
    }
   ],
   "source": [
    "Base500Canciones.groupby([pd.Grouper(key = 'Fecha de Estreno', freq = 'Y')])['semanas'].mean().plot()"
   ]
  },
  {
   "cell_type": "markdown",
   "metadata": {},
   "source": [
    "Tendencia a la subida en las semanas en streak"
   ]
  },
  {
   "cell_type": "code",
   "execution_count": null,
   "metadata": {},
   "outputs": [],
   "source": []
  }
 ],
 "metadata": {
  "kernelspec": {
   "display_name": "Python 3 (ipykernel)",
   "language": "python",
   "name": "python3"
  },
  "language_info": {
   "codemirror_mode": {
    "name": "ipython",
    "version": 3
   },
   "file_extension": ".py",
   "mimetype": "text/x-python",
   "name": "python",
   "nbconvert_exporter": "python",
   "pygments_lexer": "ipython3",
   "version": "3.10.9"
  }
 },
 "nbformat": 4,
 "nbformat_minor": 4
}
