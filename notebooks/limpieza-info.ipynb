{
 "cells": [
  {
   "cell_type": "markdown",
   "metadata": {},
   "source": [
    "# Manejo de base de datos"
   ]
  },
  {
   "cell_type": "code",
   "execution_count": 1,
   "metadata": {},
   "outputs": [],
   "source": [
    "import pandas as pd\n",
    "import numpy as np"
   ]
  },
  {
   "cell_type": "code",
   "execution_count": 2,
   "metadata": {},
   "outputs": [
    {
     "data": {
      "text/plain": [
       "'1.3.4'"
      ]
     },
     "execution_count": 2,
     "metadata": {},
     "output_type": "execute_result"
    }
   ],
   "source": [
    "pd.__version__"
   ]
  },
  {
   "cell_type": "markdown",
   "metadata": {},
   "source": [
    "###### Creacion de bases de datos"
   ]
  },
  {
   "cell_type": "code",
   "execution_count": 6,
   "metadata": {},
   "outputs": [],
   "source": [
    "Diccionario = {'a':[1,2,3],'b':[2,1,3],'c':[3,1,2]}"
   ]
  },
  {
   "cell_type": "code",
   "execution_count": 7,
   "metadata": {},
   "outputs": [],
   "source": [
    "Base1 = pd.DataFrame(Diccionario)"
   ]
  },
  {
   "cell_type": "code",
   "execution_count": 9,
   "metadata": {},
   "outputs": [
    {
     "data": {
      "text/plain": [
       "{'a': [1, 2, 3], 'b': [2, 1, 3], 'c': [3, 1, 2]}"
      ]
     },
     "execution_count": 9,
     "metadata": {},
     "output_type": "execute_result"
    }
   ],
   "source": [
    "Diccionario"
   ]
  },
  {
   "cell_type": "code",
   "execution_count": 8,
   "metadata": {},
   "outputs": [
    {
     "data": {
      "text/html": [
       "<div>\n",
       "<style scoped>\n",
       "    .dataframe tbody tr th:only-of-type {\n",
       "        vertical-align: middle;\n",
       "    }\n",
       "\n",
       "    .dataframe tbody tr th {\n",
       "        vertical-align: top;\n",
       "    }\n",
       "\n",
       "    .dataframe thead th {\n",
       "        text-align: right;\n",
       "    }\n",
       "</style>\n",
       "<table border=\"1\" class=\"dataframe\">\n",
       "  <thead>\n",
       "    <tr style=\"text-align: right;\">\n",
       "      <th></th>\n",
       "      <th>a</th>\n",
       "      <th>b</th>\n",
       "      <th>c</th>\n",
       "    </tr>\n",
       "  </thead>\n",
       "  <tbody>\n",
       "    <tr>\n",
       "      <th>0</th>\n",
       "      <td>1</td>\n",
       "      <td>2</td>\n",
       "      <td>3</td>\n",
       "    </tr>\n",
       "    <tr>\n",
       "      <th>1</th>\n",
       "      <td>2</td>\n",
       "      <td>1</td>\n",
       "      <td>1</td>\n",
       "    </tr>\n",
       "    <tr>\n",
       "      <th>2</th>\n",
       "      <td>3</td>\n",
       "      <td>3</td>\n",
       "      <td>2</td>\n",
       "    </tr>\n",
       "  </tbody>\n",
       "</table>\n",
       "</div>"
      ],
      "text/plain": [
       "   a  b  c\n",
       "0  1  2  3\n",
       "1  2  1  1\n",
       "2  3  3  2"
      ]
     },
     "execution_count": 8,
     "metadata": {},
     "output_type": "execute_result"
    }
   ],
   "source": [
    "Base1"
   ]
  },
  {
   "cell_type": "code",
   "execution_count": 10,
   "metadata": {},
   "outputs": [],
   "source": [
    "Base2 = pd.DataFrame(Diccionario, index = ['N','M','L'])"
   ]
  },
  {
   "cell_type": "code",
   "execution_count": 11,
   "metadata": {},
   "outputs": [
    {
     "data": {
      "text/html": [
       "<div>\n",
       "<style scoped>\n",
       "    .dataframe tbody tr th:only-of-type {\n",
       "        vertical-align: middle;\n",
       "    }\n",
       "\n",
       "    .dataframe tbody tr th {\n",
       "        vertical-align: top;\n",
       "    }\n",
       "\n",
       "    .dataframe thead th {\n",
       "        text-align: right;\n",
       "    }\n",
       "</style>\n",
       "<table border=\"1\" class=\"dataframe\">\n",
       "  <thead>\n",
       "    <tr style=\"text-align: right;\">\n",
       "      <th></th>\n",
       "      <th>a</th>\n",
       "      <th>b</th>\n",
       "      <th>c</th>\n",
       "    </tr>\n",
       "  </thead>\n",
       "  <tbody>\n",
       "    <tr>\n",
       "      <th>N</th>\n",
       "      <td>1</td>\n",
       "      <td>2</td>\n",
       "      <td>3</td>\n",
       "    </tr>\n",
       "    <tr>\n",
       "      <th>M</th>\n",
       "      <td>2</td>\n",
       "      <td>1</td>\n",
       "      <td>1</td>\n",
       "    </tr>\n",
       "    <tr>\n",
       "      <th>L</th>\n",
       "      <td>3</td>\n",
       "      <td>3</td>\n",
       "      <td>2</td>\n",
       "    </tr>\n",
       "  </tbody>\n",
       "</table>\n",
       "</div>"
      ],
      "text/plain": [
       "   a  b  c\n",
       "N  1  2  3\n",
       "M  2  1  1\n",
       "L  3  3  2"
      ]
     },
     "execution_count": 11,
     "metadata": {},
     "output_type": "execute_result"
    }
   ],
   "source": [
    "Base2"
   ]
  },
  {
   "cell_type": "code",
   "execution_count": 12,
   "metadata": {},
   "outputs": [],
   "source": [
    "Base3 = pd.DataFrame(Diccionario, index = ['N','M','L'], columns = ['a','b'])"
   ]
  },
  {
   "cell_type": "code",
   "execution_count": 13,
   "metadata": {},
   "outputs": [
    {
     "data": {
      "text/html": [
       "<div>\n",
       "<style scoped>\n",
       "    .dataframe tbody tr th:only-of-type {\n",
       "        vertical-align: middle;\n",
       "    }\n",
       "\n",
       "    .dataframe tbody tr th {\n",
       "        vertical-align: top;\n",
       "    }\n",
       "\n",
       "    .dataframe thead th {\n",
       "        text-align: right;\n",
       "    }\n",
       "</style>\n",
       "<table border=\"1\" class=\"dataframe\">\n",
       "  <thead>\n",
       "    <tr style=\"text-align: right;\">\n",
       "      <th></th>\n",
       "      <th>a</th>\n",
       "      <th>b</th>\n",
       "    </tr>\n",
       "  </thead>\n",
       "  <tbody>\n",
       "    <tr>\n",
       "      <th>N</th>\n",
       "      <td>1</td>\n",
       "      <td>2</td>\n",
       "    </tr>\n",
       "    <tr>\n",
       "      <th>M</th>\n",
       "      <td>2</td>\n",
       "      <td>1</td>\n",
       "    </tr>\n",
       "    <tr>\n",
       "      <th>L</th>\n",
       "      <td>3</td>\n",
       "      <td>3</td>\n",
       "    </tr>\n",
       "  </tbody>\n",
       "</table>\n",
       "</div>"
      ],
      "text/plain": [
       "   a  b\n",
       "N  1  2\n",
       "M  2  1\n",
       "L  3  3"
      ]
     },
     "execution_count": 13,
     "metadata": {},
     "output_type": "execute_result"
    }
   ],
   "source": [
    "Base3"
   ]
  },
  {
   "cell_type": "code",
   "execution_count": 14,
   "metadata": {},
   "outputs": [],
   "source": [
    "Matriz = np.array([[1,2,3],[4,5,6]])"
   ]
  },
  {
   "cell_type": "code",
   "execution_count": 15,
   "metadata": {},
   "outputs": [],
   "source": [
    "Base4 = pd.DataFrame(Matriz)"
   ]
  },
  {
   "cell_type": "code",
   "execution_count": 16,
   "metadata": {},
   "outputs": [
    {
     "data": {
      "text/html": [
       "<div>\n",
       "<style scoped>\n",
       "    .dataframe tbody tr th:only-of-type {\n",
       "        vertical-align: middle;\n",
       "    }\n",
       "\n",
       "    .dataframe tbody tr th {\n",
       "        vertical-align: top;\n",
       "    }\n",
       "\n",
       "    .dataframe thead th {\n",
       "        text-align: right;\n",
       "    }\n",
       "</style>\n",
       "<table border=\"1\" class=\"dataframe\">\n",
       "  <thead>\n",
       "    <tr style=\"text-align: right;\">\n",
       "      <th></th>\n",
       "      <th>0</th>\n",
       "      <th>1</th>\n",
       "      <th>2</th>\n",
       "    </tr>\n",
       "  </thead>\n",
       "  <tbody>\n",
       "    <tr>\n",
       "      <th>0</th>\n",
       "      <td>1</td>\n",
       "      <td>2</td>\n",
       "      <td>3</td>\n",
       "    </tr>\n",
       "    <tr>\n",
       "      <th>1</th>\n",
       "      <td>4</td>\n",
       "      <td>5</td>\n",
       "      <td>6</td>\n",
       "    </tr>\n",
       "  </tbody>\n",
       "</table>\n",
       "</div>"
      ],
      "text/plain": [
       "   0  1  2\n",
       "0  1  2  3\n",
       "1  4  5  6"
      ]
     },
     "execution_count": 16,
     "metadata": {},
     "output_type": "execute_result"
    }
   ],
   "source": [
    "Base4"
   ]
  },
  {
   "cell_type": "code",
   "execution_count": 17,
   "metadata": {},
   "outputs": [],
   "source": [
    "Base5 = pd.DataFrame([1,2,3])"
   ]
  },
  {
   "cell_type": "code",
   "execution_count": 18,
   "metadata": {},
   "outputs": [
    {
     "data": {
      "text/html": [
       "<div>\n",
       "<style scoped>\n",
       "    .dataframe tbody tr th:only-of-type {\n",
       "        vertical-align: middle;\n",
       "    }\n",
       "\n",
       "    .dataframe tbody tr th {\n",
       "        vertical-align: top;\n",
       "    }\n",
       "\n",
       "    .dataframe thead th {\n",
       "        text-align: right;\n",
       "    }\n",
       "</style>\n",
       "<table border=\"1\" class=\"dataframe\">\n",
       "  <thead>\n",
       "    <tr style=\"text-align: right;\">\n",
       "      <th></th>\n",
       "      <th>0</th>\n",
       "    </tr>\n",
       "  </thead>\n",
       "  <tbody>\n",
       "    <tr>\n",
       "      <th>0</th>\n",
       "      <td>1</td>\n",
       "    </tr>\n",
       "    <tr>\n",
       "      <th>1</th>\n",
       "      <td>2</td>\n",
       "    </tr>\n",
       "    <tr>\n",
       "      <th>2</th>\n",
       "      <td>3</td>\n",
       "    </tr>\n",
       "  </tbody>\n",
       "</table>\n",
       "</div>"
      ],
      "text/plain": [
       "   0\n",
       "0  1\n",
       "1  2\n",
       "2  3"
      ]
     },
     "execution_count": 18,
     "metadata": {},
     "output_type": "execute_result"
    }
   ],
   "source": [
    "Base5"
   ]
  },
  {
   "cell_type": "code",
   "execution_count": 19,
   "metadata": {},
   "outputs": [],
   "source": [
    "Base6 = pd.DataFrame([[1,2,3],[4,5,6]])"
   ]
  },
  {
   "cell_type": "code",
   "execution_count": 20,
   "metadata": {},
   "outputs": [
    {
     "data": {
      "text/html": [
       "<div>\n",
       "<style scoped>\n",
       "    .dataframe tbody tr th:only-of-type {\n",
       "        vertical-align: middle;\n",
       "    }\n",
       "\n",
       "    .dataframe tbody tr th {\n",
       "        vertical-align: top;\n",
       "    }\n",
       "\n",
       "    .dataframe thead th {\n",
       "        text-align: right;\n",
       "    }\n",
       "</style>\n",
       "<table border=\"1\" class=\"dataframe\">\n",
       "  <thead>\n",
       "    <tr style=\"text-align: right;\">\n",
       "      <th></th>\n",
       "      <th>0</th>\n",
       "      <th>1</th>\n",
       "      <th>2</th>\n",
       "    </tr>\n",
       "  </thead>\n",
       "  <tbody>\n",
       "    <tr>\n",
       "      <th>0</th>\n",
       "      <td>1</td>\n",
       "      <td>2</td>\n",
       "      <td>3</td>\n",
       "    </tr>\n",
       "    <tr>\n",
       "      <th>1</th>\n",
       "      <td>4</td>\n",
       "      <td>5</td>\n",
       "      <td>6</td>\n",
       "    </tr>\n",
       "  </tbody>\n",
       "</table>\n",
       "</div>"
      ],
      "text/plain": [
       "   0  1  2\n",
       "0  1  2  3\n",
       "1  4  5  6"
      ]
     },
     "execution_count": 20,
     "metadata": {},
     "output_type": "execute_result"
    }
   ],
   "source": [
    "Base6"
   ]
  },
  {
   "cell_type": "code",
   "execution_count": 21,
   "metadata": {},
   "outputs": [],
   "source": [
    "Base7 = pd.DataFrame([[[1,2,3],[4,5,6]],[[7,8,9],[10,11,12]]])"
   ]
  },
  {
   "cell_type": "code",
   "execution_count": 23,
   "metadata": {},
   "outputs": [
    {
     "data": {
      "text/html": [
       "<div>\n",
       "<style scoped>\n",
       "    .dataframe tbody tr th:only-of-type {\n",
       "        vertical-align: middle;\n",
       "    }\n",
       "\n",
       "    .dataframe tbody tr th {\n",
       "        vertical-align: top;\n",
       "    }\n",
       "\n",
       "    .dataframe thead th {\n",
       "        text-align: right;\n",
       "    }\n",
       "</style>\n",
       "<table border=\"1\" class=\"dataframe\">\n",
       "  <thead>\n",
       "    <tr style=\"text-align: right;\">\n",
       "      <th></th>\n",
       "      <th>0</th>\n",
       "      <th>1</th>\n",
       "    </tr>\n",
       "  </thead>\n",
       "  <tbody>\n",
       "    <tr>\n",
       "      <th>0</th>\n",
       "      <td>[1, 2, 3]</td>\n",
       "      <td>[4, 5, 6]</td>\n",
       "    </tr>\n",
       "    <tr>\n",
       "      <th>1</th>\n",
       "      <td>[7, 8, 9]</td>\n",
       "      <td>[10, 11, 12]</td>\n",
       "    </tr>\n",
       "  </tbody>\n",
       "</table>\n",
       "</div>"
      ],
      "text/plain": [
       "           0             1\n",
       "0  [1, 2, 3]     [4, 5, 6]\n",
       "1  [7, 8, 9]  [10, 11, 12]"
      ]
     },
     "execution_count": 23,
     "metadata": {},
     "output_type": "execute_result"
    }
   ],
   "source": [
    "Base7"
   ]
  },
  {
   "cell_type": "markdown",
   "metadata": {},
   "source": [
    "###### Series vs dataframe"
   ]
  },
  {
   "cell_type": "code",
   "execution_count": 24,
   "metadata": {
    "scrolled": true
   },
   "outputs": [
    {
     "data": {
      "text/plain": [
       "0    [1, 2, 3]\n",
       "1    [7, 8, 9]\n",
       "Name: 0, dtype: object"
      ]
     },
     "execution_count": 24,
     "metadata": {},
     "output_type": "execute_result"
    }
   ],
   "source": [
    "Base7[0]"
   ]
  },
  {
   "cell_type": "code",
   "execution_count": 25,
   "metadata": {
    "scrolled": true
   },
   "outputs": [
    {
     "data": {
      "text/html": [
       "<div>\n",
       "<style scoped>\n",
       "    .dataframe tbody tr th:only-of-type {\n",
       "        vertical-align: middle;\n",
       "    }\n",
       "\n",
       "    .dataframe tbody tr th {\n",
       "        vertical-align: top;\n",
       "    }\n",
       "\n",
       "    .dataframe thead th {\n",
       "        text-align: right;\n",
       "    }\n",
       "</style>\n",
       "<table border=\"1\" class=\"dataframe\">\n",
       "  <thead>\n",
       "    <tr style=\"text-align: right;\">\n",
       "      <th></th>\n",
       "      <th>0</th>\n",
       "      <th>1</th>\n",
       "    </tr>\n",
       "  </thead>\n",
       "  <tbody>\n",
       "    <tr>\n",
       "      <th>0</th>\n",
       "      <td>[1, 2, 3]</td>\n",
       "      <td>[4, 5, 6]</td>\n",
       "    </tr>\n",
       "    <tr>\n",
       "      <th>1</th>\n",
       "      <td>[7, 8, 9]</td>\n",
       "      <td>[10, 11, 12]</td>\n",
       "    </tr>\n",
       "  </tbody>\n",
       "</table>\n",
       "</div>"
      ],
      "text/plain": [
       "           0             1\n",
       "0  [1, 2, 3]     [4, 5, 6]\n",
       "1  [7, 8, 9]  [10, 11, 12]"
      ]
     },
     "execution_count": 25,
     "metadata": {},
     "output_type": "execute_result"
    }
   ],
   "source": [
    "Base7[[0,1]]"
   ]
  },
  {
   "cell_type": "markdown",
   "metadata": {},
   "source": [
    "###### ¿Donde encontrar recursos? Data para practicar \\\n",
    "Kaggle"
   ]
  },
  {
   "cell_type": "markdown",
   "metadata": {},
   "source": [
    "https://medium.com/@ankushchoubey/how-to-download-dataset-from-kaggle-7f700d7f9198#:~:text=To%20download%20the%20dataset%2C%20go,to%20download%20the%20entire%20dataset."
   ]
  },
  {
   "cell_type": "markdown",
   "metadata": {},
   "source": [
    "!pip install kaggle"
   ]
  },
  {
   "cell_type": "markdown",
   "metadata": {},
   "source": [
    "###### Ejemplo de base de datos - Top 500 canciones"
   ]
  },
  {
   "cell_type": "code",
   "execution_count": 26,
   "metadata": {},
   "outputs": [
    {
     "name": "stdout",
     "output_type": "stream",
     "text": [
      "Warning: Looks like you're using an outdated API Version, please consider updating (server 1.5.13 / client 1.5.9)\n",
      "ref                                                   title                                        size  lastUpdated          downloadCount  voteCount  usabilityRating  \n",
      "----------------------------------------------------  ------------------------------------------  -----  -------------------  -------------  ---------  ---------------  \n",
      "leonardopena/top50spotify2019                         Top 50 Spotify Songs - 2019                   2KB  2019-08-08 16:39:46          37272        929  1.0              \n",
      "amaanansari09/top-100-songs                           Top 100 songs                                 6KB  2023-03-12 10:06:03           3185         95  1.0              \n",
      "mrmorj/dataset-of-songs-in-spotify                    Dataset of songs in Spotify                   3MB  2020-12-06 09:46:55          13999        231  1.0              \n",
      "dhruvildave/billboard-the-hot-100-songs               Billboard \"The Hot 100\" Songs                 3MB  2021-11-09 16:59:59           8835        148  1.0              \n",
      "rodolfofigueroa/spotify-12m-songs                     Spotify 1.2M+ Songs                          97MB  2020-12-22 06:44:03           3854         84  0.8235294        \n",
      "rakkesharv/spotify-top-10000-streamed-songs           Spotify Top 10000 Streamed Songs            280KB  2023-01-02 08:17:15           4591        110  1.0              \n",
      "leonardopena/top-spotify-songs-from-20102019-by-year  Top Spotify songs from 2010-2019 - BY YEAR   19KB  2019-12-26 15:22:06          18423        361  1.0              \n",
      "estienneggx/spotify-unpopular-songs                   Spotify unpopular songs                     737KB  2022-09-04 22:10:41           1616         44  1.0              \n",
      "equinxx/spotify-top-50-songs-in-2021                  Spotify top 50 songs in 2021                  4KB  2022-03-17 22:59:45           5698         88  1.0              \n",
      "fleanend/birds-songs-numeric-dataset                  Birds' Songs Numeric Dataset                 25MB  2019-04-01 09:09:46           1442         31  0.9411765        \n",
      "muhmores/spotify-top-100-songs-of-20152019            Spotify Top 100 Songs of 2010-2019          139KB  2022-04-09 06:35:36           8194        156  0.88235295       \n",
      "sveta151/tiktok-popular-songs-2022                    Tiktok popular songs 2022                    15KB  2022-08-22 11:20:57           2556         58  1.0              \n",
      "omarhanyy/500-greatest-songs-of-all-time              500 Greatest Songs of All Time              114KB  2020-11-19 19:08:28           4508        118  1.0              \n",
      "paradisejoy/top-hits-spotify-from-20002019            Top Hits Spotify from 2000-2019              94KB  2022-05-31 07:20:57          13479        230  1.0              \n",
      "pavan9065/top-100-most-streamed-songs-on-spotify      Top 100 Most Streamed Songs on Spotify        4KB  2021-10-01 04:39:44           3808         70  1.0              \n",
      "sveta151/spotify-top-chart-songs-2022                 Spotify top chart songs 2022                 45KB  2022-09-05 07:59:27           2442         55  1.0              \n",
      "jagaryousef/5000-kurdish-songs                        Kurdish Songs                                 1MB  2022-10-10 10:14:02            104         26  1.0              \n",
      "nadintamer/top-spotify-tracks-of-2018                 Top Spotify Tracks of 2018                    7KB  2019-02-07 06:04:33          13192        268  0.9411765        \n",
      "sootersaalu/nigerian-songs-spotify                    Nigerian Songs Spotify                       24KB  2020-10-25 19:10:23            662         33  1.0              \n"
     ]
    }
   ],
   "source": [
    "!kaggle datasets list -s \"songs\""
   ]
  },
  {
   "cell_type": "code",
   "execution_count": 27,
   "metadata": {
    "scrolled": true
   },
   "outputs": [
    {
     "name": "stdout",
     "output_type": "stream",
     "text": [
      "Downloading 500-greatest-songs-of-all-time.zip to C:\\Users\\Usuario\\Documents\\Indecopi\\6 Entregables\\Primer Entregable\\Capacitación\\Intro-Python-Docker\n",
      "\n"
     ]
    },
    {
     "name": "stderr",
     "output_type": "stream",
     "text": [
      "\n",
      "  0%|          | 0.00/114k [00:00<?, ?B/s]\n",
      "100%|##########| 114k/114k [00:00<00:00, 425kB/s]\n",
      "100%|##########| 114k/114k [00:00<00:00, 423kB/s]\n"
     ]
    }
   ],
   "source": [
    "!kaggle datasets download -d omarhanyy/500-greatest-songs-of-all-time"
   ]
  },
  {
   "cell_type": "code",
   "execution_count": 29,
   "metadata": {},
   "outputs": [],
   "source": [
    "import shutil\n",
    "shutil.unpack_archive(\"500-greatest-songs-of-all-time.zip\", \"dataset\")"
   ]
  },
  {
   "cell_type": "code",
   "execution_count": null,
   "metadata": {},
   "outputs": [],
   "source": []
  },
  {
   "cell_type": "code",
   "execution_count": 30,
   "metadata": {},
   "outputs": [],
   "source": [
    "Base500Canciones = pd.read_csv('dataset/Top 500 Songs.csv', encoding = 'latin1')"
   ]
  },
  {
   "cell_type": "code",
   "execution_count": 31,
   "metadata": {},
   "outputs": [
    {
     "data": {
      "text/html": [
       "<div>\n",
       "<style scoped>\n",
       "    .dataframe tbody tr th:only-of-type {\n",
       "        vertical-align: middle;\n",
       "    }\n",
       "\n",
       "    .dataframe tbody tr th {\n",
       "        vertical-align: top;\n",
       "    }\n",
       "\n",
       "    .dataframe thead th {\n",
       "        text-align: right;\n",
       "    }\n",
       "</style>\n",
       "<table border=\"1\" class=\"dataframe\">\n",
       "  <thead>\n",
       "    <tr style=\"text-align: right;\">\n",
       "      <th></th>\n",
       "      <th>title</th>\n",
       "      <th>description</th>\n",
       "      <th>appears on</th>\n",
       "      <th>artist</th>\n",
       "      <th>writers</th>\n",
       "      <th>producer</th>\n",
       "      <th>released</th>\n",
       "      <th>streak</th>\n",
       "      <th>position</th>\n",
       "    </tr>\n",
       "  </thead>\n",
       "  <tbody>\n",
       "    <tr>\n",
       "      <th>0</th>\n",
       "      <td>Like a Rolling Stone</td>\n",
       "      <td>\"I wrote it. I didn't fail. It was straight,\" ...</td>\n",
       "      <td>Highway 61 Revisited (Columbia)</td>\n",
       "      <td>Bob Dylan</td>\n",
       "      <td>Dylan</td>\n",
       "      <td>Tom Wilson</td>\n",
       "      <td>July, 1965</td>\n",
       "      <td>12 weeks</td>\n",
       "      <td>No. 2</td>\n",
       "    </tr>\n",
       "    <tr>\n",
       "      <th>1</th>\n",
       "      <td>(I Can't Get No) Satisfaction'</td>\n",
       "      <td>\"It's the riff heard round the world,\" says St...</td>\n",
       "      <td>Out of Our Heads (ABKCO)</td>\n",
       "      <td>The Rolling Stones</td>\n",
       "      <td>Mick Jagger, Keith Richards</td>\n",
       "      <td>Andrew Loog Oldham</td>\n",
       "      <td>May, 1965</td>\n",
       "      <td>14 weeks</td>\n",
       "      <td>No. 1</td>\n",
       "    </tr>\n",
       "    <tr>\n",
       "      <th>2</th>\n",
       "      <td>Imagine</td>\n",
       "      <td>John Lennon wrote \"Imagine,\" his greatest musi...</td>\n",
       "      <td>Imagine (Capitol/Apple)</td>\n",
       "      <td>John Lennon</td>\n",
       "      <td>John Lennon</td>\n",
       "      <td>Lennon, Phil Spector, Yoko Ono</td>\n",
       "      <td>October, 1971</td>\n",
       "      <td>9 weeks</td>\n",
       "      <td>No. 3</td>\n",
       "    </tr>\n",
       "    <tr>\n",
       "      <th>3</th>\n",
       "      <td>What's Going On</td>\n",
       "      <td>\"What's Going On\" is an exquisite plea for pea...</td>\n",
       "      <td>What's Going On (Tamla)</td>\n",
       "      <td>Marvin Gaye</td>\n",
       "      <td>Gaye, Renaldo Benson, Al Cleveland</td>\n",
       "      <td>Gaye</td>\n",
       "      <td>Feb, 1971</td>\n",
       "      <td>13 weeks</td>\n",
       "      <td>No. 2</td>\n",
       "    </tr>\n",
       "    <tr>\n",
       "      <th>4</th>\n",
       "      <td>Respect</td>\n",
       "      <td>Otis Redding wrote \"Respect\" and recorded it f...</td>\n",
       "      <td>I Never Loved a Man the Way I Love You (Atlantic)</td>\n",
       "      <td>Aretha Franklin</td>\n",
       "      <td>Otis Redding</td>\n",
       "      <td>Jerry Wexler</td>\n",
       "      <td>April, 1967</td>\n",
       "      <td>12 weeks</td>\n",
       "      <td>No. 1</td>\n",
       "    </tr>\n",
       "    <tr>\n",
       "      <th>...</th>\n",
       "      <td>...</td>\n",
       "      <td>...</td>\n",
       "      <td>...</td>\n",
       "      <td>...</td>\n",
       "      <td>...</td>\n",
       "      <td>...</td>\n",
       "      <td>...</td>\n",
       "      <td>...</td>\n",
       "      <td>...</td>\n",
       "    </tr>\n",
       "    <tr>\n",
       "      <th>495</th>\n",
       "      <td>Heroin</td>\n",
       "      <td>This seven-minute, two-chord track spiked out ...</td>\n",
       "      <td>The Velvet Underground and Nico (Polydor)</td>\n",
       "      <td>The Velvet Underground</td>\n",
       "      <td>Lou Reed</td>\n",
       "      <td>Andy Warhol, Tom Wilson</td>\n",
       "      <td>March , 1967</td>\n",
       "      <td>Non-Single</td>\n",
       "      <td>NaN</td>\n",
       "    </tr>\n",
       "    <tr>\n",
       "      <th>496</th>\n",
       "      <td>Leader of the Pack</td>\n",
       "      <td>Morton found the inspiration for this song at ...</td>\n",
       "      <td>Myrmidons of Melodrama: Definitive Collection ...</td>\n",
       "      <td>The Shangri-Las</td>\n",
       "      <td>George \"Shadow\" Morton, Jeff Barry, Ellie Gree...</td>\n",
       "      <td>Morton, Barry, Greenwich</td>\n",
       "      <td>Oct. , 1964</td>\n",
       "      <td>12 weeks</td>\n",
       "      <td>No. 1</td>\n",
       "    </tr>\n",
       "    <tr>\n",
       "      <th>497</th>\n",
       "      <td>Pressure Drop</td>\n",
       "      <td>Toots and the Maytals were already reggae star...</td>\n",
       "      <td>The Harder They Come (Hip-O)</td>\n",
       "      <td>Toots and the Maytals</td>\n",
       "      <td>Toots Hibbert</td>\n",
       "      <td>Leslie Kong</td>\n",
       "      <td>Feb. , 1973</td>\n",
       "      <td>Did Not Chart</td>\n",
       "      <td>NaN</td>\n",
       "    </tr>\n",
       "    <tr>\n",
       "      <th>498</th>\n",
       "      <td>Come As You Are</td>\n",
       "      <td>\"It's just about people and what they're expec...</td>\n",
       "      <td>Nevermind (Geffen)</td>\n",
       "      <td>Nirvana</td>\n",
       "      <td>Kurt Cobain, Nirvana</td>\n",
       "      <td>Butch Vig, Nirvana</td>\n",
       "      <td>Sept. , 1991</td>\n",
       "      <td>18 weeks</td>\n",
       "      <td>No. 32</td>\n",
       "    </tr>\n",
       "    <tr>\n",
       "      <th>499</th>\n",
       "      <td>I Got You Babe</td>\n",
       "      <td>Late one night, while Sonny and Cher were livi...</td>\n",
       "      <td>The Beat Goes On: The Best of Sonny and Cher (...</td>\n",
       "      <td>Sonny and Cher</td>\n",
       "      <td>Sonny Bono</td>\n",
       "      <td>Bono</td>\n",
       "      <td>July , 1965</td>\n",
       "      <td>14 weeks</td>\n",
       "      <td>No. 1</td>\n",
       "    </tr>\n",
       "  </tbody>\n",
       "</table>\n",
       "<p>500 rows × 9 columns</p>\n",
       "</div>"
      ],
      "text/plain": [
       "                              title  \\\n",
       "0              Like a Rolling Stone   \n",
       "1    (I Can't Get No) Satisfaction'   \n",
       "2                           Imagine   \n",
       "3                   What's Going On   \n",
       "4                           Respect   \n",
       "..                              ...   \n",
       "495                          Heroin   \n",
       "496              Leader of the Pack   \n",
       "497                   Pressure Drop   \n",
       "498                 Come As You Are   \n",
       "499                  I Got You Babe   \n",
       "\n",
       "                                           description  \\\n",
       "0    \"I wrote it. I didn't fail. It was straight,\" ...   \n",
       "1    \"It's the riff heard round the world,\" says St...   \n",
       "2    John Lennon wrote \"Imagine,\" his greatest musi...   \n",
       "3    \"What's Going On\" is an exquisite plea for pea...   \n",
       "4    Otis Redding wrote \"Respect\" and recorded it f...   \n",
       "..                                                 ...   \n",
       "495  This seven-minute, two-chord track spiked out ...   \n",
       "496  Morton found the inspiration for this song at ...   \n",
       "497  Toots and the Maytals were already reggae star...   \n",
       "498  \"It's just about people and what they're expec...   \n",
       "499  Late one night, while Sonny and Cher were livi...   \n",
       "\n",
       "                                            appears on  \\\n",
       "0                      Highway 61 Revisited (Columbia)   \n",
       "1                             Out of Our Heads (ABKCO)   \n",
       "2                              Imagine (Capitol/Apple)   \n",
       "3                              What's Going On (Tamla)   \n",
       "4    I Never Loved a Man the Way I Love You (Atlantic)   \n",
       "..                                                 ...   \n",
       "495          The Velvet Underground and Nico (Polydor)   \n",
       "496  Myrmidons of Melodrama: Definitive Collection ...   \n",
       "497                       The Harder They Come (Hip-O)   \n",
       "498                                 Nevermind (Geffen)   \n",
       "499  The Beat Goes On: The Best of Sonny and Cher (...   \n",
       "\n",
       "                     artist  \\\n",
       "0                 Bob Dylan   \n",
       "1        The Rolling Stones   \n",
       "2               John Lennon   \n",
       "3               Marvin Gaye   \n",
       "4           Aretha Franklin   \n",
       "..                      ...   \n",
       "495  The Velvet Underground   \n",
       "496         The Shangri-Las   \n",
       "497   Toots and the Maytals   \n",
       "498                 Nirvana   \n",
       "499          Sonny and Cher   \n",
       "\n",
       "                                               writers  \\\n",
       "0                                                Dylan   \n",
       "1                          Mick Jagger, Keith Richards   \n",
       "2                                          John Lennon   \n",
       "3                   Gaye, Renaldo Benson, Al Cleveland   \n",
       "4                                         Otis Redding   \n",
       "..                                                 ...   \n",
       "495                                           Lou Reed   \n",
       "496  George \"Shadow\" Morton, Jeff Barry, Ellie Gree...   \n",
       "497                                      Toots Hibbert   \n",
       "498                               Kurt Cobain, Nirvana   \n",
       "499                                         Sonny Bono   \n",
       "\n",
       "                           producer       released         streak position  \n",
       "0                       Tom Wilson      July, 1965       12 weeks    No. 2  \n",
       "1                Andrew Loog Oldham      May, 1965       14 weeks    No. 1  \n",
       "2    Lennon, Phil Spector, Yoko Ono  October, 1971        9 weeks    No. 3  \n",
       "3                             Gaye       Feb, 1971       13 weeks    No. 2  \n",
       "4                      Jerry Wexler    April, 1967       12 weeks    No. 1  \n",
       "..                              ...            ...            ...      ...  \n",
       "495         Andy Warhol, Tom Wilson   March , 1967     Non-Single      NaN  \n",
       "496        Morton, Barry, Greenwich    Oct. , 1964       12 weeks    No. 1  \n",
       "497                     Leslie Kong    Feb. , 1973  Did Not Chart      NaN  \n",
       "498              Butch Vig, Nirvana   Sept. , 1991       18 weeks   No. 32  \n",
       "499                            Bono    July , 1965       14 weeks    No. 1  \n",
       "\n",
       "[500 rows x 9 columns]"
      ]
     },
     "execution_count": 31,
     "metadata": {},
     "output_type": "execute_result"
    }
   ],
   "source": [
    "Base500Canciones"
   ]
  },
  {
   "cell_type": "markdown",
   "metadata": {},
   "source": [
    "###### Estadísticas básicas"
   ]
  },
  {
   "cell_type": "code",
   "execution_count": 32,
   "metadata": {
    "scrolled": true
   },
   "outputs": [
    {
     "name": "stdout",
     "output_type": "stream",
     "text": [
      "<class 'pandas.core.frame.DataFrame'>\n",
      "RangeIndex: 500 entries, 0 to 499\n",
      "Data columns (total 9 columns):\n",
      " #   Column       Non-Null Count  Dtype \n",
      "---  ------       --------------  ----- \n",
      " 0   title        500 non-null    object\n",
      " 1   description  500 non-null    object\n",
      " 2   appears on   500 non-null    object\n",
      " 3   artist       500 non-null    object\n",
      " 4   writers      500 non-null    object\n",
      " 5   producer     500 non-null    object\n",
      " 6   released     500 non-null    object\n",
      " 7   streak       494 non-null    object\n",
      " 8   position     393 non-null    object\n",
      "dtypes: object(9)\n",
      "memory usage: 35.3+ KB\n"
     ]
    }
   ],
   "source": [
    "Base500Canciones.info()"
   ]
  },
  {
   "cell_type": "code",
   "execution_count": 33,
   "metadata": {},
   "outputs": [
    {
     "data": {
      "text/html": [
       "<div>\n",
       "<style scoped>\n",
       "    .dataframe tbody tr th:only-of-type {\n",
       "        vertical-align: middle;\n",
       "    }\n",
       "\n",
       "    .dataframe tbody tr th {\n",
       "        vertical-align: top;\n",
       "    }\n",
       "\n",
       "    .dataframe thead th {\n",
       "        text-align: right;\n",
       "    }\n",
       "</style>\n",
       "<table border=\"1\" class=\"dataframe\">\n",
       "  <thead>\n",
       "    <tr style=\"text-align: right;\">\n",
       "      <th></th>\n",
       "      <th>title</th>\n",
       "      <th>description</th>\n",
       "      <th>appears on</th>\n",
       "      <th>artist</th>\n",
       "      <th>writers</th>\n",
       "      <th>producer</th>\n",
       "      <th>released</th>\n",
       "      <th>streak</th>\n",
       "      <th>position</th>\n",
       "    </tr>\n",
       "  </thead>\n",
       "  <tbody>\n",
       "    <tr>\n",
       "      <th>count</th>\n",
       "      <td>500</td>\n",
       "      <td>500</td>\n",
       "      <td>500</td>\n",
       "      <td>500</td>\n",
       "      <td>500</td>\n",
       "      <td>500</td>\n",
       "      <td>500</td>\n",
       "      <td>494</td>\n",
       "      <td>393</td>\n",
       "    </tr>\n",
       "    <tr>\n",
       "      <th>unique</th>\n",
       "      <td>446</td>\n",
       "      <td>450</td>\n",
       "      <td>392</td>\n",
       "      <td>248</td>\n",
       "      <td>335</td>\n",
       "      <td>296</td>\n",
       "      <td>331</td>\n",
       "      <td>54</td>\n",
       "      <td>100</td>\n",
       "    </tr>\n",
       "    <tr>\n",
       "      <th>top</th>\n",
       "      <td>Crazy</td>\n",
       "      <td>The members of Led Zeppelin first got their so...</td>\n",
       "      <td>The Ultimate Collection (Motown)</td>\n",
       "      <td>The Beatles</td>\n",
       "      <td>John Lennon, Paul McCartney</td>\n",
       "      <td>George Martin</td>\n",
       "      <td>Oct. , 1969</td>\n",
       "      <td>15 weeks</td>\n",
       "      <td>No. 1</td>\n",
       "    </tr>\n",
       "    <tr>\n",
       "      <th>freq</th>\n",
       "      <td>4</td>\n",
       "      <td>2</td>\n",
       "      <td>10</td>\n",
       "      <td>23</td>\n",
       "      <td>20</td>\n",
       "      <td>21</td>\n",
       "      <td>7</td>\n",
       "      <td>35</td>\n",
       "      <td>76</td>\n",
       "    </tr>\n",
       "  </tbody>\n",
       "</table>\n",
       "</div>"
      ],
      "text/plain": [
       "        title                                        description  \\\n",
       "count     500                                                500   \n",
       "unique    446                                                450   \n",
       "top     Crazy  The members of Led Zeppelin first got their so...   \n",
       "freq        4                                                  2   \n",
       "\n",
       "                              appears on       artist  \\\n",
       "count                                500          500   \n",
       "unique                               392          248   \n",
       "top     The Ultimate Collection (Motown)  The Beatles   \n",
       "freq                                  10           23   \n",
       "\n",
       "                            writers       producer     released    streak  \\\n",
       "count                           500            500          500       494   \n",
       "unique                          335            296          331        54   \n",
       "top     John Lennon, Paul McCartney  George Martin  Oct. , 1969  15 weeks   \n",
       "freq                             20             21            7        35   \n",
       "\n",
       "       position  \n",
       "count       393  \n",
       "unique      100  \n",
       "top       No. 1  \n",
       "freq         76  "
      ]
     },
     "execution_count": 33,
     "metadata": {},
     "output_type": "execute_result"
    }
   ],
   "source": [
    "Base500Canciones.describe()"
   ]
  },
  {
   "cell_type": "code",
   "execution_count": 34,
   "metadata": {},
   "outputs": [
    {
     "data": {
      "text/plain": [
       "Index(['title', 'description', 'appears on', 'artist', 'writers', 'producer',\n",
       "       'released', 'streak', 'position'],\n",
       "      dtype='object')"
      ]
     },
     "execution_count": 34,
     "metadata": {},
     "output_type": "execute_result"
    }
   ],
   "source": [
    "Base500Canciones.columns"
   ]
  },
  {
   "cell_type": "markdown",
   "metadata": {},
   "source": [
    "###### Manejo de fechas"
   ]
  },
  {
   "cell_type": "code",
   "execution_count": 35,
   "metadata": {},
   "outputs": [
    {
     "data": {
      "text/plain": [
       "0         July, 1965\n",
       "1          May, 1965\n",
       "2      October, 1971\n",
       "3          Feb, 1971\n",
       "4        April, 1967\n",
       "           ...      \n",
       "495     March , 1967\n",
       "496      Oct. , 1964\n",
       "497      Feb. , 1973\n",
       "498     Sept. , 1991\n",
       "499      July , 1965\n",
       "Name: released, Length: 500, dtype: object"
      ]
     },
     "execution_count": 35,
     "metadata": {},
     "output_type": "execute_result"
    }
   ],
   "source": [
    "Base500Canciones['released']"
   ]
  },
  {
   "cell_type": "code",
   "execution_count": 36,
   "metadata": {},
   "outputs": [],
   "source": [
    "Base500Canciones['Fecha de Estreno'] = pd.to_datetime(Base500Canciones['released'])"
   ]
  },
  {
   "cell_type": "code",
   "execution_count": 37,
   "metadata": {},
   "outputs": [
    {
     "data": {
      "text/plain": [
       "0     1965-07-01\n",
       "1     1965-05-01\n",
       "2     1971-10-01\n",
       "3     1971-02-01\n",
       "4     1967-04-01\n",
       "         ...    \n",
       "495   1967-03-01\n",
       "496   1964-10-01\n",
       "497   1973-02-01\n",
       "498   1991-09-01\n",
       "499   1965-07-01\n",
       "Name: Fecha de Estreno, Length: 500, dtype: datetime64[ns]"
      ]
     },
     "execution_count": 37,
     "metadata": {},
     "output_type": "execute_result"
    }
   ],
   "source": [
    "Base500Canciones['Fecha de Estreno']"
   ]
  },
  {
   "cell_type": "markdown",
   "metadata": {},
   "source": [
    "###### ¿Cuantas canciones por año se estrenaron?"
   ]
  },
  {
   "cell_type": "code",
   "execution_count": 38,
   "metadata": {},
   "outputs": [],
   "source": [
    "Cancionesxfecha=(Base500Canciones\n",
    " .assign(N=1)\n",
    " .groupby(pd.Grouper(key = 'Fecha de Estreno', freq = 'Y')).agg({'N':'count'}) \n",
    ")\n"
   ]
  },
  {
   "cell_type": "code",
   "execution_count": 39,
   "metadata": {},
   "outputs": [
    {
     "data": {
      "text/plain": [
       "<AxesSubplot:xlabel='Fecha de Estreno'>"
      ]
     },
     "execution_count": 39,
     "metadata": {},
     "output_type": "execute_result"
    },
    {
     "data": {
      "image/png": "[encoded data removed]",
      "text/plain": [
       "<Figure size 432x288 with 1 Axes>"
      ]
     },
     "metadata": {
      "needs_background": "light"
     },
     "output_type": "display_data"
    }
   ],
   "source": [
    "Cancionesxfecha.plot()"
   ]
  },
  {
   "cell_type": "markdown",
   "metadata": {},
   "source": [
    "###### ¿Qué artistas?"
   ]
  },
  {
   "cell_type": "markdown",
   "metadata": {},
   "source": [
    "!pip install qgrid\n",
    "jupyter nbextension enable --py --sys-prefix qgrid"
   ]
  },
  {
   "cell_type": "code",
   "execution_count": 40,
   "metadata": {
    "scrolled": true
   },
   "outputs": [
    {
     "data": {
      "text/plain": [
       "The Beatles                   23\n",
       "Bob Dylan                     14\n",
       "Elvis Presley                 13\n",
       "The Rolling Stones            10\n",
       "The Beach Boys                 8\n",
       "                              ..\n",
       "The Modern Lovers              1\n",
       "Kanye West                     1\n",
       "New York Dolls                 1\n",
       "Archie Bell and The Drells     1\n",
       "Sonny and Cher                 1\n",
       "Name: artist, Length: 248, dtype: int64"
      ]
     },
     "execution_count": 40,
     "metadata": {},
     "output_type": "execute_result"
    }
   ],
   "source": [
    "Base500Canciones.artist.value_counts()"
   ]
  },
  {
   "cell_type": "markdown",
   "metadata": {},
   "source": [
    "###### ¿Y el productor?"
   ]
  },
  {
   "cell_type": "code",
   "execution_count": 41,
   "metadata": {},
   "outputs": [
    {
     "data": {
      "text/plain": [
       "George Martin                                   21\n",
       "Steve Sholes                                     8\n",
       "Wilson                                           8\n",
       "Jimmy Miller                                     7\n",
       "Bob Johnston                                     7\n",
       "                                                ..\n",
       "Jerry Leiber, Mike Stoller, Barry, Greenwich     1\n",
       "Smith, David M. Allen                            1\n",
       "Ken Scott, Bowie                                 1\n",
       "Bell                                             1\n",
       "Bono                                             1\n",
       "Name: producer, Length: 296, dtype: int64"
      ]
     },
     "execution_count": 41,
     "metadata": {},
     "output_type": "execute_result"
    }
   ],
   "source": [
    "Base500Canciones.producer.value_counts()"
   ]
  },
  {
   "cell_type": "markdown",
   "metadata": {},
   "source": [
    "###### ¿A que posicion llegaron?"
   ]
  },
  {
   "cell_type": "code",
   "execution_count": 42,
   "metadata": {},
   "outputs": [
    {
     "data": {
      "text/plain": [
       "0        No. 2\n",
       "1        No. 1\n",
       "2        No. 3\n",
       "3        No. 2\n",
       "4        No. 1\n",
       "        ...   \n",
       "495        NaN\n",
       "496      No. 1\n",
       "497        NaN\n",
       "498     No. 32\n",
       "499      No. 1\n",
       "Name: position, Length: 500, dtype: object"
      ]
     },
     "execution_count": 42,
     "metadata": {},
     "output_type": "execute_result"
    }
   ],
   "source": [
    "Base500Canciones.position"
   ]
  },
  {
   "cell_type": "code",
   "execution_count": 43,
   "metadata": {},
   "outputs": [],
   "source": [
    "import re"
   ]
  },
  {
   "cell_type": "code",
   "execution_count": 45,
   "metadata": {
    "scrolled": true
   },
   "outputs": [],
   "source": [
    "Base500Canciones['Puesto'] = (\n",
    "    Base500Canciones\n",
    "    .position\n",
    "    .apply(lambda y: re.findall(\"\\d+\",str(y)))\n",
    "    .apply(lambda y: y[0] if len(y)>0 else np.nan)\n",
    ")"
   ]
  },
  {
   "cell_type": "code",
   "execution_count": 46,
   "metadata": {},
   "outputs": [
    {
     "data": {
      "text/plain": [
       "count     386\n",
       "unique     64\n",
       "top         1\n",
       "freq      119\n",
       "Name: Puesto, dtype: object"
      ]
     },
     "execution_count": 46,
     "metadata": {},
     "output_type": "execute_result"
    }
   ],
   "source": [
    "Base500Canciones['Puesto'].describe()"
   ]
  },
  {
   "cell_type": "code",
   "execution_count": 48,
   "metadata": {},
   "outputs": [
    {
     "data": {
      "text/plain": [
       "0        2\n",
       "1        1\n",
       "2        3\n",
       "3        2\n",
       "4        1\n",
       "      ... \n",
       "495    NaN\n",
       "496      1\n",
       "497    NaN\n",
       "498     32\n",
       "499      1\n",
       "Name: Puesto, Length: 500, dtype: object"
      ]
     },
     "execution_count": 48,
     "metadata": {},
     "output_type": "execute_result"
    }
   ],
   "source": [
    "Base500Canciones['Puesto']"
   ]
  },
  {
   "cell_type": "code",
   "execution_count": 49,
   "metadata": {},
   "outputs": [],
   "source": [
    "Base500Canciones['Puesto'] = Base500Canciones['Puesto'].astype(float)"
   ]
  },
  {
   "cell_type": "code",
   "execution_count": 50,
   "metadata": {
    "scrolled": true
   },
   "outputs": [
    {
     "data": {
      "text/plain": [
       "count    386.000000\n",
       "mean      13.453368\n",
       "std       19.630989\n",
       "min        1.000000\n",
       "25%        1.000000\n",
       "50%        5.000000\n",
       "75%       16.000000\n",
       "max       99.000000\n",
       "Name: Puesto, dtype: float64"
      ]
     },
     "execution_count": 50,
     "metadata": {},
     "output_type": "execute_result"
    }
   ],
   "source": [
    "Base500Canciones['Puesto'].describe()"
   ]
  },
  {
   "cell_type": "markdown",
   "metadata": {},
   "source": [
    "###### Pre visualizaciones\n",
    "Las herramientas de python permiten tener ideas de como representar la informacion \\\n",
    "Raw data -> Insights"
   ]
  },
  {
   "cell_type": "code",
   "execution_count": 51,
   "metadata": {},
   "outputs": [],
   "source": [
    "import seaborn as sns"
   ]
  },
  {
   "cell_type": "code",
   "execution_count": 52,
   "metadata": {},
   "outputs": [
    {
     "data": {
      "text/plain": [
       "<AxesSubplot:xlabel='Puesto', ylabel='Count'>"
      ]
     },
     "execution_count": 52,
     "metadata": {},
     "output_type": "execute_result"
    },
    {
     "data": {
      "image/png": "[encoded data removed]",
      "text/plain": [
       "<Figure size 432x288 with 1 Axes>"
      ]
     },
     "metadata": {
      "needs_background": "light"
     },
     "output_type": "display_data"
    }
   ],
   "source": [
    "sns.histplot(Base500Canciones['Puesto'])"
   ]
  },
  {
   "cell_type": "markdown",
   "metadata": {},
   "source": [
    "Las canciones de este top casi siempre llegaban al 1 en las listas de oyentes"
   ]
  },
  {
   "cell_type": "markdown",
   "metadata": {},
   "source": [
    "###### ¿Cuanto duran las canciones en los tops?"
   ]
  },
  {
   "cell_type": "code",
   "execution_count": 53,
   "metadata": {},
   "outputs": [
    {
     "data": {
      "text/plain": [
       "15 weeks                  35\n",
       "Did not chart             35\n",
       "16 weeks                  34\n",
       "11 weeks                  33\n",
       "14 weeks                  32\n",
       "13 weeks                  32\n",
       "12 weeks                  29\n",
       "Non-single                21\n",
       "21 weeks                  18\n",
       "17 weeks                  17\n",
       "19 weeks                  15\n",
       "20 weeks                  15\n",
       "8 weeks                   14\n",
       "Did Not Chart             13\n",
       "10 weeks                  12\n",
       "27 weeks                  11\n",
       "18 weeks                  10\n",
       "9 weeks                   10\n",
       "24 weeks                   9\n",
       "7 weeks                    9\n",
       "Non-Single                 9\n",
       "22 weeks                   8\n",
       "Did not chart              8\n",
       "none                       7\n",
       "25 weeks                   7\n",
       "26 weeks                   6\n",
       "5 weeks                    4\n",
       "4 weeks                    4\n",
       "6 weeks                    2\n",
       "33 weeks                   2\n",
       "23 weeks                   2\n",
       "30 weeks                   2\n",
       "2 weeks                    2\n",
       "15 weeks, No. 7            2\n",
       "29 weeks                   2\n",
       "27 weeks, No. 1            2\n",
       "7 weeks, No. 31            2\n",
       "13 weeks, No. 6            2\n",
       "28 weeks                   2\n",
       "Predates chart             1\n",
       "did not chart              1\n",
       "predates chart             1\n",
       "46 weeks                   1\n",
       "42 weeks                   1\n",
       "3 weeks                    1\n",
       "31 weeks                   1\n",
       "Non-single                 1\n",
       "1 week                     1\n",
       " 21 weeks                  1\n",
       "Non-single in the U.S.     1\n",
       "Non-single in U.S.         1\n",
       "32 weeks                   1\n",
       "Predates pop charts        1\n",
       "39 weeks                   1\n",
       "Name: streak, dtype: int64"
      ]
     },
     "execution_count": 53,
     "metadata": {},
     "output_type": "execute_result"
    }
   ],
   "source": [
    "Base500Canciones.streak.value_counts()"
   ]
  },
  {
   "cell_type": "code",
   "execution_count": 54,
   "metadata": {},
   "outputs": [],
   "source": [
    "Base500Canciones['semanas'] = (Base500Canciones.streak\n",
    "                               .fillna(\"\")\n",
    "                               .str.split(\",\")\n",
    "                               .apply(lambda y: y[-1])\n",
    "                               .apply(lambda y: re.findall(\"\\d+\",str(y)))\n",
    "                               .apply(lambda y: int(y[0]) if len(y)>0 else np.nan)\n",
    "                             )"
   ]
  },
  {
   "cell_type": "code",
   "execution_count": 56,
   "metadata": {},
   "outputs": [
    {
     "data": {
      "text/plain": [
       "count    394.000000\n",
       "mean      15.543147\n",
       "std        6.392936\n",
       "min        1.000000\n",
       "25%       12.000000\n",
       "50%       15.000000\n",
       "75%       19.000000\n",
       "max       46.000000\n",
       "Name: semanas, dtype: float64"
      ]
     },
     "execution_count": 56,
     "metadata": {},
     "output_type": "execute_result"
    }
   ],
   "source": [
    "Base500Canciones['semanas'].dropna().describe()"
   ]
  },
  {
   "cell_type": "code",
   "execution_count": 57,
   "metadata": {},
   "outputs": [
    {
     "data": {
      "text/plain": [
       "<AxesSubplot:xlabel='semanas', ylabel='Count'>"
      ]
     },
     "execution_count": 57,
     "metadata": {},
     "output_type": "execute_result"
    },
    {
     "data": {
      "image/png": "[encoded data removed]",
      "text/plain": [
       "<Figure size 432x288 with 1 Axes>"
      ]
     },
     "metadata": {
      "needs_background": "light"
     },
     "output_type": "display_data"
    }
   ],
   "source": [
    "sns.histplot(Base500Canciones['semanas'].dropna())"
   ]
  },
  {
   "cell_type": "markdown",
   "metadata": {},
   "source": [
    "En promedio las canciones duran 15 semanas el listas"
   ]
  },
  {
   "cell_type": "code",
   "execution_count": 58,
   "metadata": {},
   "outputs": [
    {
     "data": {
      "text/plain": [
       "<AxesSubplot:xlabel='Fecha de Estreno'>"
      ]
     },
     "execution_count": 58,
     "metadata": {},
     "output_type": "execute_result"
    },
    {
     "data": {
      "image/png": "[encoded data removed]",
      "text/plain": [
       "<Figure size 432x288 with 1 Axes>"
      ]
     },
     "metadata": {
      "needs_background": "light"
     },
     "output_type": "display_data"
    }
   ],
   "source": [
    "Base500Canciones.groupby([pd.Grouper(key = 'Fecha de Estreno', freq = 'Y')])['semanas'].mean().plot()"
   ]
  },
  {
   "cell_type": "markdown",
   "metadata": {},
   "source": [
    "Tendencia a la subida en las semanas en streak"
   ]
  }
 ],
 "metadata": {
  "kernelspec": {
   "display_name": "Python 3",
   "language": "python",
   "name": "python3"
  },
  "language_info": {
   "codemirror_mode": {
    "name": "ipython",
    "version": 3
   },
   "file_extension": ".py",
   "mimetype": "text/x-python",
   "name": "python",
   "nbconvert_exporter": "python",
   "pygments_lexer": "ipython3",
   "version": "3.7.4"
  }
 },
 "nbformat": 4,
 "nbformat_minor": 4
}
